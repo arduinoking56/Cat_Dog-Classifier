{
 "cells": [
  {
   "cell_type": "code",
   "execution_count": 1,
   "metadata": {},
   "outputs": [],
   "source": [
    "import pickle"
   ]
  },
  {
   "cell_type": "code",
   "execution_count": 2,
   "metadata": {},
   "outputs": [],
   "source": [
    "X = pickle.load(open('X.pkl', 'rb'))\n",
    "y = pickle.load(open('y.pkl', 'rb'))"
   ]
  },
  {
   "cell_type": "code",
   "execution_count": 3,
   "metadata": {},
   "outputs": [],
   "source": [
    "X = X/255"
   ]
  },
  {
   "cell_type": "code",
   "execution_count": 4,
   "metadata": {},
   "outputs": [
    {
     "data": {
      "text/plain": [
       "(23000, 50, 50, 3)"
      ]
     },
     "execution_count": 4,
     "metadata": {},
     "output_type": "execute_result"
    }
   ],
   "source": [
    "X.shape"
   ]
  },
  {
   "cell_type": "code",
   "execution_count": 5,
   "metadata": {},
   "outputs": [
    {
     "data": {
      "text/plain": [
       "numpy.ndarray"
      ]
     },
     "execution_count": 5,
     "metadata": {},
     "output_type": "execute_result"
    }
   ],
   "source": [
    "type(X)"
   ]
  },
  {
   "cell_type": "code",
   "execution_count": 6,
   "metadata": {},
   "outputs": [],
   "source": [
    "from tensorflow.keras.models import Sequential\n",
    "from tensorflow.keras.layers import Conv2D, MaxPooling2D, Flatten, Dense\n",
    "from tensorflow.keras.callbacks import TensorBoard\n",
    "from keras.layers import Dropout\n",
    "import time\n",
    "from keras.optimizers import SGD\n",
    "\n",
    "NAME = f'cat-vs-dog-prediction-{int(time.time())}'\n",
    "\n",
    "tensorboard = TensorBoard(log_dir=f'logs\\\\{NAME}\\\\')"
   ]
  },
  {
   "cell_type": "code",
   "execution_count": 8,
   "metadata": {},
   "outputs": [],
   "source": [
    "model = Sequential()\n",
    "\n",
    "model.add(Conv2D(32, (3,3), activation='relu', kernel_initializer='he_uniform', padding='same'))\n",
    "model.add(MaxPooling2D((2,2)))\n",
    "#model.add(Dropout(0.2))\n",
    "\n",
    "model.add(Conv2D(64, (3,3), activation='relu', kernel_initializer='he_uniform', padding='same'))\n",
    "model.add(MaxPooling2D((2,2)))\n",
    "#model.add(Dropout(0.2))\n",
    "\n",
    "model.add(Conv2D(128, (3,3), activation='relu', kernel_initializer='he_uniform', padding='same'))\n",
    "model.add(MaxPooling2D((2,2)))\n",
    "#model.add(Dropout(0.2))\n",
    "model.add((Flatten()))\n",
    "\n",
    "model.add(Dense(128, input_shape = X.shape[1:], activation= 'relu', kernel_initializer='he_uniform'))\n",
    "#model.add(Dropout(0.5))\n",
    "#model.add(Dense(128, activation= 'relu'))\n",
    "#model.add(Dropout(0.5))\n",
    "model.add(Dense(1, activation ='sigmoid')) # Change this too see the differnece \n",
    "#model.add(Dropout(0.5))\n"
   ]
  },
  {
   "cell_type": "code",
   "execution_count": 9,
   "metadata": {},
   "outputs": [],
   "source": [
    "opt = SGD(lr=0.001, momentum=0.9)\n",
    "model.compile(optimizer=opt, loss='binary_crossentropy', metrics=['accuracy'])"
   ]
  },
  {
   "cell_type": "code",
   "execution_count": null,
   "metadata": {},
   "outputs": [
    {
     "name": "stdout",
     "output_type": "stream",
     "text": [
      "Epoch 1/10\n",
      "  1/647 [..............................] - ETA: 0s - loss: 0.7126 - accuracy: 0.5625WARNING:tensorflow:From C:\\Users\\Luis\\Anaconda3\\lib\\site-packages\\tensorflow\\python\\ops\\summary_ops_v2.py:1277: stop (from tensorflow.python.eager.profiler) is deprecated and will be removed after 2020-07-01.\n",
      "Instructions for updating:\n",
      "use `tf.profiler.experimental.stop` instead.\n",
      "647/647 [==============================] - 60s 93ms/step - loss: 0.6510 - accuracy: 0.6125 - val_loss: 0.6568 - val_accuracy: 0.6022\n",
      "Epoch 2/10\n",
      "647/647 [==============================] - 76s 117ms/step - loss: 0.5780 - accuracy: 0.6982 - val_loss: 0.6112 - val_accuracy: 0.6726\n",
      "Epoch 3/10\n",
      "647/647 [==============================] - 76s 117ms/step - loss: 0.5336 - accuracy: 0.7355 - val_loss: 0.5808 - val_accuracy: 0.6878\n",
      "Epoch 4/10\n",
      "647/647 [==============================] - 76s 118ms/step - loss: 0.4983 - accuracy: 0.7591 - val_loss: 0.4916 - val_accuracy: 0.7600\n",
      "Epoch 5/10\n",
      "647/647 [==============================] - 78s 121ms/step - loss: 0.4690 - accuracy: 0.7799 - val_loss: 0.4898 - val_accuracy: 0.7661\n",
      "Epoch 6/10\n",
      "647/647 [==============================] - 75s 115ms/step - loss: 0.4485 - accuracy: 0.7927 - val_loss: 0.4696 - val_accuracy: 0.7739\n",
      "Epoch 7/10\n",
      "647/647 [==============================] - 77s 119ms/step - loss: 0.4269 - accuracy: 0.8050 - val_loss: 0.4676 - val_accuracy: 0.7852\n",
      "Epoch 8/10\n",
      "647/647 [==============================] - 79s 122ms/step - loss: 0.4084 - accuracy: 0.8135 - val_loss: 0.4596 - val_accuracy: 0.7909\n",
      "Epoch 9/10\n",
      "221/647 [=========>....................] - ETA: 48s - loss: 0.3887 - accuracy: 0.8323"
     ]
    }
   ],
   "source": [
    "model.fit(X, y, epochs=10, validation_split=0.1,batch_size=32, callbacks=[tensorboard])"
   ]
  },
  {
   "cell_type": "code",
   "execution_count": null,
   "metadata": {},
   "outputs": [],
   "source": [
    "# 0.7113%\n",
    "# 0.7658%\n",
    "# 0.7896%\n",
    "\n",
    "#cd C:\\Users\\Luis\\Cats_Dogs"
   ]
  },
  {
   "cell_type": "code",
   "execution_count": null,
   "metadata": {},
   "outputs": [],
   "source": [
    "#tensorboard --logdir=logs"
   ]
  },
  {
   "cell_type": "code",
   "execution_count": null,
   "metadata": {},
   "outputs": [],
   "source": []
  }
 ],
 "metadata": {
  "kernelspec": {
   "display_name": "Python 3",
   "language": "python",
   "name": "python3"
  },
  "language_info": {
   "codemirror_mode": {
    "name": "ipython",
    "version": 3
   },
   "file_extension": ".py",
   "mimetype": "text/x-python",
   "name": "python",
   "nbconvert_exporter": "python",
   "pygments_lexer": "ipython3",
   "version": "3.6.5"
  }
 },
 "nbformat": 4,
 "nbformat_minor": 4
}
